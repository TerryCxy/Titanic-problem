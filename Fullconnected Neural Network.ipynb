{
 "cells": [
  {
   "cell_type": "markdown",
   "metadata": {},
   "source": [
    "# load and Clean Data"
   ]
  },
  {
   "cell_type": "code",
   "execution_count": 1,
   "metadata": {},
   "outputs": [],
   "source": [
    "import pandas as pd\n",
    "import numpy as np\n",
    "import matplotlib.pyplot as plt"
   ]
  },
  {
   "cell_type": "code",
   "execution_count": 2,
   "metadata": {
    "scrolled": true
   },
   "outputs": [
    {
     "data": {
      "text/plain": [
       "array([[ 3.   ,  1.   , -2.125,  1.   ,  0.   ,  0.   ],\n",
       "       [ 1.   ,  0.   , -0.125,  1.   ,  0.   ,  2.   ],\n",
       "       [ 3.   ,  0.   , -1.625,  0.   ,  0.   ,  0.   ],\n",
       "       ...,\n",
       "       [ 3.   ,  0.   , -2.   ,  1.   ,  2.   ,  0.   ],\n",
       "       [ 1.   ,  1.   , -1.625,  0.   ,  0.   ,  2.   ],\n",
       "       [ 3.   ,  1.   , -0.875,  0.   ,  0.   ,  1.   ]])"
      ]
     },
     "execution_count": 2,
     "metadata": {},
     "output_type": "execute_result"
    }
   ],
   "source": [
    "df = pd.read_csv(\"train.csv\")\n",
    "df[\"Sex\"]=df[\"Sex\"].replace({\"male\":str(1),\"female\":str(0)}).astype(int)\n",
    "df[\"Embarked\"].fillna(\"S\",inplace=True)\n",
    "df[\"Embarked\"]=df[\"Embarked\"].replace({\"S\":str(0),\"Q\":str(1),\"C\":str(2)}).astype(int)\n",
    "y_label=np.array(df[\"Survived\"].values)\n",
    "Pclass=np.array(df[\"Pclass\"].values)\n",
    "gender = np.array(df[\"Sex\"].values)\n",
    "\n",
    "ages=np.array(df[\"Age\"].values)\n",
    "ages[np.isnan(ages)]=0\n",
    "ages=np.nan_to_num(ages)\n",
    "mean_age=np.mean(ages)\n",
    "ages[ages==0] = int(mean_age)\n",
    "gap = int((np.max(ages)-np.min(ages))/2)\n",
    "ages = (ages-gap)/np.max(ages)*10\n",
    "\n",
    "SibSp=np.array(df[\"SibSp\"].values)\n",
    "Parch=np.array(df[\"Parch\"].values)\n",
    "embarked = np.array(df[\"Embarked\"].values)\n",
    "X_train=np.vstack((Pclass,gender,ages,SibSp,Parch,embarked)).T\n",
    "X_train"
   ]
  },
  {
   "cell_type": "code",
   "execution_count": 3,
   "metadata": {},
   "outputs": [
    {
     "data": {
      "text/plain": [
       "(891, 6)"
      ]
     },
     "execution_count": 3,
     "metadata": {},
     "output_type": "execute_result"
    }
   ],
   "source": [
    "X_train.shape"
   ]
  },
  {
   "cell_type": "code",
   "execution_count": 4,
   "metadata": {},
   "outputs": [],
   "source": [
    "y_label = np.array(df[\"Survived\"].values)\n",
    "# y_add=[]\n",
    "# for i in range(891):\n",
    "#     if y_label[i]==1:\n",
    "#         y_add.append(0)\n",
    "#     else:\n",
    "#         y_add.append(1)\n",
    "# y_label=np.stack((y_label,y_add),axis=1)"
   ]
  },
  {
   "cell_type": "code",
   "execution_count": 5,
   "metadata": {},
   "outputs": [],
   "source": [
    "from sklearn.model_selection import train_test_split\n",
    "import torch\n",
    "\n",
    "X_train,X_cv,y_train,y_cv=train_test_split(X_train,y_label,test_size = 0.3)\n",
    "X_train=X_train.reshape(X_train.shape[0],6)\n",
    "y_train=y_train.reshape(y_train.shape[0])"
   ]
  },
  {
   "cell_type": "code",
   "execution_count": 6,
   "metadata": {},
   "outputs": [],
   "source": [
    "X_train,y_train = torch.from_numpy(X_train).float(), torch.from_numpy(y_train).long()\n",
    "train_dataset = torch.utils.data.TensorDataset(X_train,y_train)\n",
    "train_loader = torch.utils.data.DataLoader(train_dataset,batch_size=4)"
   ]
  },
  {
   "cell_type": "code",
   "execution_count": 7,
   "metadata": {},
   "outputs": [
    {
     "name": "stdout",
     "output_type": "stream",
     "text": [
      "torch.Size([623, 6])\n",
      "torch.Size([623])\n"
     ]
    }
   ],
   "source": [
    "print(X_train.shape)\n",
    "print(y_train.shape)"
   ]
  },
  {
   "cell_type": "code",
   "execution_count": 8,
   "metadata": {},
   "outputs": [],
   "source": [
    "import torch.nn as nn\n",
    "import torch.nn.functional as F\n",
    "\n",
    "class FNN(nn.Module):\n",
    "    def __init__(self):\n",
    "        super(FNN,self).__init__()\n",
    "        self.f1 = nn.Linear(1*1*6,30)\n",
    "        self.f2 = nn.Linear(30,10)\n",
    "        self.f3 = nn.Linear(10,2)\n",
    "        \n",
    "    def forward(self,x):\n",
    "        x=F.relu(self.f1(x))\n",
    "        x=F.relu(self.f2(x))\n",
    "        x=self.f3(x)\n",
    "        return x\n",
    "classes=('0','1')"
   ]
  },
  {
   "cell_type": "code",
   "execution_count": 9,
   "metadata": {},
   "outputs": [
    {
     "data": {
      "text/plain": [
       "FNN(\n",
       "  (f1): Linear(in_features=6, out_features=30, bias=True)\n",
       "  (f2): Linear(in_features=30, out_features=10, bias=True)\n",
       "  (f3): Linear(in_features=10, out_features=2, bias=True)\n",
       ")"
      ]
     },
     "execution_count": 9,
     "metadata": {},
     "output_type": "execute_result"
    }
   ],
   "source": [
    "FNN()"
   ]
  },
  {
   "cell_type": "code",
   "execution_count": 20,
   "metadata": {},
   "outputs": [],
   "source": [
    "import torch.optim as optim\n",
    "net = FNN()\n",
    "criterion=nn.CrossEntropyLoss()\n",
    "optimizer = optim.SGD(net.parameters(),lr=0.001,momentum=0.9)"
   ]
  },
  {
   "cell_type": "code",
   "execution_count": 23,
   "metadata": {},
   "outputs": [
    {
     "name": "stdout",
     "output_type": "stream",
     "text": [
      "[1, 10] loss: 0.395\n",
      "[1, 20] loss: 0.427\n",
      "[1, 30] loss: 0.530\n",
      "[1, 40] loss: 0.572\n",
      "[1, 50] loss: 0.556\n",
      "[1, 60] loss: 0.564\n",
      "[1, 70] loss: 0.453\n",
      "[1, 80] loss: 0.476\n",
      "[1, 90] loss: 0.517\n",
      "[1,100] loss: 0.452\n",
      "[1,110] loss: 0.436\n",
      "[1,120] loss: 0.467\n",
      "[1,130] loss: 0.556\n",
      "[1,140] loss: 0.465\n",
      "[1,150] loss: 0.459\n",
      "[2, 10] loss: 0.376\n",
      "[2, 20] loss: 0.411\n",
      "[2, 30] loss: 0.522\n",
      "[2, 40] loss: 0.562\n",
      "[2, 50] loss: 0.538\n",
      "[2, 60] loss: 0.546\n",
      "[2, 70] loss: 0.434\n",
      "[2, 80] loss: 0.460\n",
      "[2, 90] loss: 0.508\n",
      "[2,100] loss: 0.432\n",
      "[2,110] loss: 0.431\n",
      "[2,120] loss: 0.451\n",
      "[2,130] loss: 0.550\n",
      "[2,140] loss: 0.441\n",
      "[2,150] loss: 0.459\n",
      "[3, 10] loss: 0.363\n",
      "[3, 20] loss: 0.399\n",
      "[3, 30] loss: 0.517\n",
      "[3, 40] loss: 0.553\n",
      "[3, 50] loss: 0.523\n",
      "[3, 60] loss: 0.533\n",
      "[3, 70] loss: 0.419\n",
      "[3, 80] loss: 0.450\n",
      "[3, 90] loss: 0.504\n",
      "[3,100] loss: 0.416\n",
      "[3,110] loss: 0.428\n",
      "[3,120] loss: 0.440\n",
      "[3,130] loss: 0.547\n",
      "[3,140] loss: 0.422\n",
      "[3,150] loss: 0.461\n",
      "Finish!\n"
     ]
    }
   ],
   "source": [
    "loss_record=[]\n",
    "net_record = FNN()\n",
    "for epoch in range(3):\n",
    "    running_loss = 0.0\n",
    "    for i,data in enumerate(train_loader,0):\n",
    "        inputs, labels = data\n",
    "        optimizer.zero_grad()\n",
    "        outputs = net(inputs)\n",
    "        loss=criterion(outputs, labels)\n",
    "        loss.backward()\n",
    "        optimizer.step()\n",
    "        \n",
    "        loss_record.append(loss)\n",
    "        if (i >=1 and np.min(loss_record)==loss):\n",
    "            net_record = net\n",
    "        \n",
    "        running_loss += loss.item()\n",
    "        if i % 10 == 9: \n",
    "            print('[%d,%3d] loss: %.3f'% (epoch+1,i+1,running_loss/10))\n",
    "            running_loss=0.0\n",
    "        \n",
    "print(\"Finish!\")"
   ]
  },
  {
   "cell_type": "code",
   "execution_count": 25,
   "metadata": {},
   "outputs": [],
   "source": [
    "PATH = './CNN.pth'\n",
    "torch.save(net_record.state_dict(), PATH)"
   ]
  },
  {
   "cell_type": "code",
   "execution_count": 77,
   "metadata": {},
   "outputs": [],
   "source": [
    "df = pd.read_csv(\"test.csv\")\n",
    "df[\"Sex\"]=df[\"Sex\"].replace({\"male\":str(1),\"female\":str(0)}).astype(int)\n",
    "df[\"Embarked\"].fillna(\"S\",inplace=True)\n",
    "df[\"Embarked\"]=df[\"Embarked\"].replace({\"S\":str(0),\"Q\":str(1),\"C\":str(2)}).astype(int)\n",
    "Pclass=np.array(df[\"Pclass\"].values)\n",
    "gender = np.array(df[\"Sex\"].values)\n",
    "\n",
    "ages=np.array(df[\"Age\"].values)\n",
    "ages[np.isnan(ages)]=0\n",
    "ages=np.nan_to_num(ages)\n",
    "mean_age=np.mean(ages)\n",
    "ages[ages==0] = int(mean_age)\n",
    "gap = int((np.max(ages)-np.min(ages))/2)\n",
    "ages = (ages-gap)/np.max(ages)*10\n",
    "\n",
    "SibSp=np.array(df[\"SibSp\"].values)\n",
    "Parch=np.array(df[\"Parch\"].values)\n",
    "embarked = np.array(df[\"Embarked\"].values)\n",
    "X_test=np.vstack((Pclass,gender,ages,SibSp,Parch,embarked)).T"
   ]
  },
  {
   "cell_type": "code",
   "execution_count": 78,
   "metadata": {},
   "outputs": [],
   "source": [
    "X_test = torch.Tensor(X_test).float()\n",
    "X_test=X_test.reshape(X_test.shape[0], 6)"
   ]
  },
  {
   "cell_type": "code",
   "execution_count": 79,
   "metadata": {},
   "outputs": [
    {
     "data": {
      "text/plain": [
       "torch.Size([418, 6])"
      ]
     },
     "execution_count": 79,
     "metadata": {},
     "output_type": "execute_result"
    }
   ],
   "source": [
    "X_test.shape"
   ]
  },
  {
   "cell_type": "code",
   "execution_count": 81,
   "metadata": {
    "scrolled": true
   },
   "outputs": [],
   "source": [
    "pred=[]\n",
    "with torch.no_grad():\n",
    "    for data in X_test:\n",
    "        inputs = data\n",
    "#         imputs=imputs.unsqueeze(0) # 增加一个维度\n",
    "        output = net(inputs)\n",
    "        if output[0]>output[1]:\n",
    "            i=0\n",
    "        else:\n",
    "            i=1\n",
    "#         _,output=torch.max(output,1)\n",
    "        pred.append(i)"
   ]
  },
  {
   "cell_type": "code",
   "execution_count": 82,
   "metadata": {},
   "outputs": [],
   "source": [
    "list_num=np.array([])\n",
    "list_num = np.array(range(len(pred))).T\n",
    "list_num += 892\n",
    "pred_ndarray=np.array(pred)\n",
    "submission=np.vstack((list_num,pred_ndarray)).T\n",
    "submission=submission.tolist()"
   ]
  },
  {
   "cell_type": "code",
   "execution_count": 84,
   "metadata": {},
   "outputs": [],
   "source": [
    "import csv\n",
    "for i in range(2):\n",
    "    for j in range(list_num.shape[0]):\n",
    "        submission[j][i]=str(submission[j][i])\n",
    "        \n",
    "with open('output.csv', 'w', newline='') as f:  \n",
    "    writer = csv.writer(f) \n",
    "    for j in range(list_num.shape[0]):\n",
    "        writer.writerow(submission[j]) "
   ]
  },
  {
   "cell_type": "code",
   "execution_count": null,
   "metadata": {},
   "outputs": [],
   "source": []
  },
  {
   "cell_type": "code",
   "execution_count": null,
   "metadata": {},
   "outputs": [],
   "source": []
  }
 ],
 "metadata": {
  "kernelspec": {
   "display_name": "Python 3",
   "language": "python",
   "name": "python3"
  },
  "language_info": {
   "codemirror_mode": {
    "name": "ipython",
    "version": 3
   },
   "file_extension": ".py",
   "mimetype": "text/x-python",
   "name": "python",
   "nbconvert_exporter": "python",
   "pygments_lexer": "ipython3",
   "version": "3.8.3"
  }
 },
 "nbformat": 4,
 "nbformat_minor": 4
}
