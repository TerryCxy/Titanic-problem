{
 "cells": [
  {
   "cell_type": "code",
   "execution_count": 1,
   "metadata": {},
   "outputs": [],
   "source": [
    "import pandas as pd\n",
    "import numpy as np\n",
    "import matplotlib.pyplot as plt\n",
    "\n",
    "df = pd.read_csv(\"train.csv\")"
   ]
  },
  {
   "cell_type": "markdown",
   "metadata": {},
   "source": [
    "# Load and analysis data"
   ]
  },
  {
   "cell_type": "code",
   "execution_count": 2,
   "metadata": {
    "scrolled": true
   },
   "outputs": [],
   "source": [
    "genders=df.iloc[:,4].values\n",
    "gender_digit=[]\n",
    "for gender in genders:\n",
    "    if(gender==\"male\"):\n",
    "        gender_digit.append(1)\n",
    "    \n",
    "    else:\n",
    "        gender_digit.append(0)\n"
   ]
  },
  {
   "cell_type": "code",
   "execution_count": 3,
   "metadata": {},
   "outputs": [],
   "source": [
    "embarkeds = df[\"Embarked\"].values\n",
    "embarked_digit = []\n",
    "for embarked in embarkeds:\n",
    "    if(embarked==\"S\"):\n",
    "        embarked_digit.append(0)\n",
    "    elif(embarked==\"Q\"):\n",
    "        embarked_digit.append(1)\n",
    "    else:\n",
    "        embarked_digit.append(2)"
   ]
  },
  {
   "cell_type": "code",
   "execution_count": 4,
   "metadata": {
    "scrolled": true
   },
   "outputs": [],
   "source": [
    "ages=np.array(df[\"Age\"].values)\n",
    "ages[np.isnan(ages)]=0\n",
    "ages=np.nan_to_num(ages)\n",
    "mean_age=np.mean(ages)\n",
    "ages[ages==0] = int(mean_age)\n",
    "ages=list(map(int,ages))"
   ]
  },
  {
   "cell_type": "code",
   "execution_count": 5,
   "metadata": {},
   "outputs": [
    {
     "name": "stdout",
     "output_type": "stream",
     "text": [
      "Training data shape: (891, 7)\n",
      "Training label shape: (891,)\n"
     ]
    }
   ],
   "source": [
    "# Get train data and labels\n",
    "# PassengerId=df.iloc[:,0].values\n",
    "y_label=np.array(df[\"Survived\"].values)\n",
    "Pclass=np.array(df[\"Pclass\"].values)\n",
    "# gender_digit\n",
    "# ages\n",
    "SibSp=np.array(df[\"SibSp\"].values)\n",
    "Parch=np.array(df[\"Parch\"].values)\n",
    "Fare =np.array(df[\"Fare\"].values)\n",
    "Fare = list(map(int,Fare))\n",
    "# embarked_digit\n",
    "X_train=np.vstack((Pclass,gender_digit,ages,SibSp,Parch,Fare,embarked_digit)).T\n",
    "X_train_without_fare=np.vstack((Pclass,gender_digit,ages,SibSp,Parch,embarked_digit)).T\n",
    "X_train_without_FE=np.vstack((Pclass,gender_digit,ages,SibSp,Parch)).T\n",
    "print(\"Training data shape:\",X_train.shape)\n",
    "print(\"Training label shape:\",y_label.shape)"
   ]
  },
  {
   "cell_type": "code",
   "execution_count": 6,
   "metadata": {},
   "outputs": [
    {
     "name": "stdout",
     "output_type": "stream",
     "text": [
      "Test data shape: (418, 7)\n"
     ]
    }
   ],
   "source": [
    "# Get test data and labels\n",
    "df_test = pd.read_csv(\"test.csv\")\n",
    "Pclass=np.array(df_test[\"Pclass\"].values)\n",
    "genders=np.array(df_test[\"Sex\"].values)\n",
    "genders[genders==\"male\"]=1\n",
    "genders[genders==\"female\"]=0\n",
    "ages=np.array(df_test[\"Age\"].values)\n",
    "ages[np.isnan(ages)]=0\n",
    "mean_age=int(np.mean(ages))\n",
    "ages[ages==0] = mean_age\n",
    "ages = list(map(int,ages))\n",
    "SibSp=np.array(df_test[\"SibSp\"].values)\n",
    "Parch=np.array(df_test[\"Parch\"].values)\n",
    "Fare =np.array(df_test[\"Fare\"].values)\n",
    "Fare = list(map(int,Fare))\n",
    "embarkeds = df_test[\"Embarked\"].values\n",
    "embarked_digit = []\n",
    "for embarked in embarkeds:\n",
    "    if(embarked==\"S\"):\n",
    "        embarked_digit.append(0)\n",
    "    elif(embarked==\"Q\"):\n",
    "        embarked_digit.append(1)\n",
    "    else:\n",
    "        embarked_digit.append(2)\n",
    "X_test=np.vstack((Pclass,genders,ages,SibSp,Parch,Fare,embarked_digit)).T\n",
    "X_test_without_fare=np.vstack((Pclass,genders,ages,SibSp,Parch,embarked_digit)).T\n",
    "X_test_without_FE=np.vstack((Pclass,genders,ages,SibSp,Parch)).T\n",
    "print(\"Test data shape:\",X_test.shape)"
   ]
  },
  {
   "cell_type": "code",
   "execution_count": 7,
   "metadata": {},
   "outputs": [
    {
     "name": "stdout",
     "output_type": "stream",
     "text": [
      "Test label shape: (418,)\n"
     ]
    }
   ],
   "source": [
    "df_test_label = pd.read_csv(\"gender.csv\")\n",
    "y_test=df_test_label[\"Survived\"].values\n",
    "print(\"Test label shape:\",y_test.shape)"
   ]
  },
  {
   "cell_type": "code",
   "execution_count": 8,
   "metadata": {},
   "outputs": [],
   "source": [
    "from classifiers import KNN\n",
    "classifier_L1 = KNN()\n",
    "classifier_L1.train(X_train,y_label)\n",
    "y_pred=classifier_L1.predict(X_test,k=1,L=1)"
   ]
  },
  {
   "cell_type": "code",
   "execution_count": 9,
   "metadata": {},
   "outputs": [
    {
     "name": "stdout",
     "output_type": "stream",
     "text": [
      "Test Accurancy(L1,k=1): 0.6148325358851675\n"
     ]
    }
   ],
   "source": [
    "num_test=y_test.shape[0]\n",
    "accurancy=np.sum(y_test==y_pred)/num_test\n",
    "print(\"Test Accurancy(L1,k=1):\",accurancy)"
   ]
  },
  {
   "cell_type": "code",
   "execution_count": 10,
   "metadata": {},
   "outputs": [
    {
     "name": "stdout",
     "output_type": "stream",
     "text": [
      "Test Accurancy(L2,k=1): 0.6985645933014354\n"
     ]
    }
   ],
   "source": [
    "classifier_L2 = KNN()\n",
    "classifier_L2.train(X_train,y_label)\n",
    "y_pred=classifier_L2.predict(X_test,k=1,L=2)\n",
    "num_test=y_test.shape[0]\n",
    "accurancy=np.sum(y_test==y_pred)/num_test\n",
    "print(\"Test Accurancy(L2,k=1):\",accurancy)"
   ]
  },
  {
   "cell_type": "code",
   "execution_count": 11,
   "metadata": {},
   "outputs": [
    {
     "data": {
      "text/plain": [
       "[<matplotlib.lines.Line2D at 0x2e1e87a3340>]"
      ]
     },
     "execution_count": 11,
     "metadata": {},
     "output_type": "execute_result"
    },
    {
     "data": {
      "image/png": "[encoded data removed]",
      "text/plain": [
       "<Figure size 432x216 with 1 Axes>"
      ]
     },
     "metadata": {
      "needs_background": "light"
     },
     "output_type": "display_data"
    }
   ],
   "source": [
    "fig, ax = plt.subplots(1, 1, figsize=(6, 3))\n",
    "accurancy_list=[]\n",
    "k_zip= [1,3,5,7,8,9,10,11,13,15]\n",
    "for k in k_zip:\n",
    "    classifier_L2 = KNN()\n",
    "    classifier_L2.train(X_train,y_label)\n",
    "    y_pred=classifier_L2.predict(X_test,k=k,L=2)\n",
    "    num_test=y_test.shape[0]\n",
    "    accurancy=np.sum(y_test==y_pred)/num_test\n",
    "    accurancy_list.append(accurancy)\n",
    "ax.plot(k_zip,accurancy_list,'-o')"
   ]
  },
  {
   "cell_type": "code",
   "execution_count": 12,
   "metadata": {},
   "outputs": [
    {
     "name": "stdout",
     "output_type": "stream",
     "text": [
      "The max accurancy is 1.00, and K =10.\n"
     ]
    }
   ],
   "source": [
    "print(\"The max accurancy is %.2f, and K =10.\" % np.max(accurancy_list))"
   ]
  },
  {
   "cell_type": "code",
   "execution_count": 13,
   "metadata": {},
   "outputs": [
    {
     "name": "stdout",
     "output_type": "stream",
     "text": [
      "The max accurancy is 0.77, and K =10.\n"
     ]
    },
    {
     "data": {
      "image/png": "[encoded data removed]",
      "text/plain": [
       "<Figure size 432x216 with 1 Axes>"
      ]
     },
     "metadata": {
      "needs_background": "light"
     },
     "output_type": "display_data"
    }
   ],
   "source": [
    "# Without Fare\n",
    "fig, ax = plt.subplots(1, 1, figsize=(6, 3))\n",
    "accurancy_list=[]\n",
    "k_zip= [1,3,4,5,6,7,8,9,10]\n",
    "for k in k_zip:\n",
    "    classifier_L2 = KNN()\n",
    "    classifier_L2.train(X_train_without_fare,y_label)\n",
    "    y_pred=classifier_L2.predict(X_test_without_fare,k=k,L=2)\n",
    "    num_test=y_test.shape[0]\n",
    "    accurancy=np.sum(y_test==y_pred)/num_test\n",
    "    accurancy_list.append(accurancy)\n",
    "ax.plot(k_zip,accurancy_list,'-o')\n",
    "print(\"The max accurancy is %.2f, and K =10.\" % np.max(accurancy_list))"
   ]
  },
  {
   "cell_type": "code",
   "execution_count": 14,
   "metadata": {},
   "outputs": [
    {
     "name": "stdout",
     "output_type": "stream",
     "text": [
      "The max accurancy is 0.78, and K =8.\n"
     ]
    },
    {
     "data": {
      "image/png": "[encoded data removed]",
      "text/plain": [
       "<Figure size 432x216 with 1 Axes>"
      ]
     },
     "metadata": {
      "needs_background": "light"
     },
     "output_type": "display_data"
    }
   ],
   "source": [
    "# Without Fare and Embarked\n",
    "fig, ax = plt.subplots(1, 1, figsize=(6, 3))\n",
    "accurancy_list=[]\n",
    "k_zip= [1,3,5,7,8,9,10,11,12]\n",
    "for k in k_zip:\n",
    "    classifier_L2 = KNN()\n",
    "    classifier_L2.train(X_train_without_FE,y_label)\n",
    "    y_pred=classifier_L2.predict(X_test_without_FE,k=k,L=2)\n",
    "    num_test=y_test.shape[0]\n",
    "    accurancy=np.sum(y_test==y_pred)/num_test\n",
    "    accurancy_list.append(accurancy)\n",
    "ax.plot(k_zip,accurancy_list,'-o')\n",
    "print(\"The max accurancy is %.2f, and K =8.\" % np.max(accurancy_list))"
   ]
  },
  {
   "cell_type": "code",
   "execution_count": 15,
   "metadata": {},
   "outputs": [],
   "source": [
    "# Data without F and E, K=10, L=2\n",
    "import csv\n",
    "classifier_L2 = KNN()\n",
    "classifier_L2.train(X_train_without_fare,y_label)\n",
    "y_pred=classifier_L2.predict(X_test_without_fare,k=8,L=2)\n",
    "pred=list(y_pred)\n",
    "pred = [str(x) for x in pred]\n",
    "with open('output.csv', 'w', newline='') as f:  \n",
    "    writer = csv.writer(f) \n",
    "    writer.writerow(pred) \n",
    " "
   ]
  },
  {
   "cell_type": "code",
   "execution_count": 16,
   "metadata": {},
   "outputs": [
    {
     "data": {
      "text/plain": [
       "(891, 6)"
      ]
     },
     "execution_count": 16,
     "metadata": {},
     "output_type": "execute_result"
    }
   ],
   "source": [
    "df = pd.read_csv(\"train.csv\")\n",
    "Pclass=np.array(df[\"Pclass\"].values)\n",
    "gender=np.array(df[\"Sex\"].values)\n",
    "gender[gender==\"male\"]=1\n",
    "gender[gender==\"female\"]=0\n",
    "\n",
    "ages=df[\"Age\"].values\n",
    "ages[np.isnan(ages)]=0\n",
    "ages=np.nan_to_num(ages)\n",
    "mean_age=np.mean(ages)\n",
    "ages[ages==0] = int(mean_age)\n",
    "ages=np.array(list(map(int,ages)))\n",
    "num = max(ages)-min(ages)\n",
    "minNum=min(ages)\n",
    "ages=(ages-minNum)/num*10\n",
    "ages=list(map(int,ages))\n",
    "\n",
    "SibSp=np.array(df[\"SibSp\"].values)\n",
    "Parch=np.array(df[\"Parch\"].values)\n",
    "embarked=np.array(df[\"Embarked\"].values)\n",
    "embarked[embarked==\"S\"]=0\n",
    "embarked[embarked==\"C\"]=1\n",
    "embarked[embarked==\"Q\"]=2\n",
    "X_train=np.vstack((Pclass,gender,ages,SibSp,Parch,embarked)).T\n",
    "y_label=np.array(df[\"Survived\"].values)\n",
    "X_train.shape"
   ]
  },
  {
   "cell_type": "markdown",
   "metadata": {},
   "source": [
    "# Data scaling"
   ]
  },
  {
   "cell_type": "code",
   "execution_count": 17,
   "metadata": {
    "scrolled": true
   },
   "outputs": [
    {
     "data": {
      "text/plain": [
       "(418, 6)"
      ]
     },
     "execution_count": 17,
     "metadata": {},
     "output_type": "execute_result"
    }
   ],
   "source": [
    "df = pd.read_csv(\"test.csv\")\n",
    "Pclass=np.array(df[\"Pclass\"].values)\n",
    "gender=np.array(df[\"Sex\"].values)\n",
    "gender[gender==\"male\"]=1\n",
    "gender[gender==\"female\"]=0\n",
    "\n",
    "ages=df[\"Age\"].values\n",
    "ages[np.isnan(ages)]=0\n",
    "ages=np.nan_to_num(ages)\n",
    "mean_age=np.mean(ages)\n",
    "ages[ages==0] = int(mean_age)\n",
    "ages=np.array(list(map(int,ages)))\n",
    "num = max(ages)-min(ages)\n",
    "minNum=min(ages)\n",
    "ages=(ages-minNum)/num*10\n",
    "ages=list(map(int,ages))\n",
    "\n",
    "SibSp=np.array(df[\"SibSp\"].values)\n",
    "Parch=np.array(df[\"Parch\"].values)\n",
    "embarked=np.array(df[\"Embarked\"].values)\n",
    "embarked[embarked==\"S\"]=0\n",
    "embarked[embarked==\"C\"]=1\n",
    "embarked[embarked==\"Q\"]=2\n",
    "X_test=np.vstack((Pclass,gender,ages,SibSp,Parch,embarked)).T\n",
    "X_test.shape"
   ]
  },
  {
   "cell_type": "code",
   "execution_count": 18,
   "metadata": {},
   "outputs": [
    {
     "name": "stdout",
     "output_type": "stream",
     "text": [
      "Test label shape: (418,)\n"
     ]
    }
   ],
   "source": [
    "df_test_label = pd.read_csv(\"gender.csv\")\n",
    "y_test=df_test_label[\"Survived\"].values\n",
    "print(\"Test label shape:\",y_test.shape)"
   ]
  },
  {
   "cell_type": "code",
   "execution_count": 19,
   "metadata": {},
   "outputs": [
    {
     "name": "stdout",
     "output_type": "stream",
     "text": [
      "The max accurancy is 0.80, and K =8.\n"
     ]
    },
    {
     "data": {
      "image/png": "[encoded data removed]",
      "text/plain": [
       "<Figure size 432x216 with 1 Axes>"
      ]
     },
     "metadata": {
      "needs_background": "light"
     },
     "output_type": "display_data"
    }
   ],
   "source": [
    "from classifiers import KNN\n",
    "fig, ax = plt.subplots(1, 1, figsize=(6, 3))\n",
    "accurancy_list=[]\n",
    "k_zip= [8,9,10,11,12,13,14,15]\n",
    "for k in k_zip:\n",
    "    classifier_L2 = KNN()\n",
    "    classifier_L2.train(X_train,y_label)\n",
    "    y_pred=classifier_L2.predict(X_test,k=k,L=2)\n",
    "    num_test=y_test.shape[0]\n",
    "    accurancy=np.sum(y_test==y_pred)/num_test\n",
    "    accurancy_list.append(accurancy)\n",
    "ax.plot(k_zip,accurancy_list,'-o')\n",
    "print(\"The max accurancy is %.2f, and K =8.\" % np.max(accurancy_list))"
   ]
  },
  {
   "cell_type": "code",
   "execution_count": 20,
   "metadata": {},
   "outputs": [],
   "source": [
    "classifier_L2 = KNN()\n",
    "classifier_L2.train(X_train,y_label)\n",
    "y_pred=classifier_L2.predict(X_test,k=12,L=2)\n",
    "num_test=y_test.shape[0]\n",
    "accurancy=np.sum(y_test==y_pred)/num_test"
   ]
  },
  {
   "cell_type": "code",
   "execution_count": 21,
   "metadata": {},
   "outputs": [],
   "source": [
    "import csv\n",
    "pred=list(y_pred)\n",
    "pred = [str(x) for x in pred]\n",
    "with open('output.csv', 'w', newline='') as f:  \n",
    "    writer = csv.writer(f) \n",
    "    writer.writerow(pred) "
   ]
  },
  {
   "cell_type": "code",
   "execution_count": null,
   "metadata": {},
   "outputs": [],
   "source": []
  }
 ],
 "metadata": {
  "kernelspec": {
   "display_name": "Python 3",
   "language": "python",
   "name": "python3"
  },
  "language_info": {
   "codemirror_mode": {
    "name": "ipython",
    "version": 3
   },
   "file_extension": ".py",
   "mimetype": "text/x-python",
   "name": "python",
   "nbconvert_exporter": "python",
   "pygments_lexer": "ipython3",
   "version": "3.8.3"
  }
 },
 "nbformat": 4,
 "nbformat_minor": 4
}
