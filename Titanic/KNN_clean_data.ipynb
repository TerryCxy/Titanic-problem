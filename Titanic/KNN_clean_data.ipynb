{
 "cells": [
  {
   "cell_type": "code",
   "execution_count": 1,
   "metadata": {},
   "outputs": [],
   "source": [
    "import pandas as pd\n",
    "import numpy as np\n",
    "import matplotlib.pyplot as plt\n",
    "\n",
    "df = pd.read_csv(\"train.csv\")"
   ]
  },
  {
   "cell_type": "code",
   "execution_count": 2,
   "metadata": {},
   "outputs": [
    {
     "name": "stdout",
     "output_type": "stream",
     "text": [
      "<class 'pandas.core.frame.DataFrame'>\n",
      "RangeIndex: 891 entries, 0 to 890\n",
      "Data columns (total 12 columns):\n",
      " #   Column       Non-Null Count  Dtype  \n",
      "---  ------       --------------  -----  \n",
      " 0   PassengerId  891 non-null    int64  \n",
      " 1   Survived     891 non-null    int64  \n",
      " 2   Pclass       891 non-null    int64  \n",
      " 3   Name         891 non-null    object \n",
      " 4   Sex          891 non-null    object \n",
      " 5   Age          714 non-null    float64\n",
      " 6   SibSp        891 non-null    int64  \n",
      " 7   Parch        891 non-null    int64  \n",
      " 8   Ticket       891 non-null    object \n",
      " 9   Fare         891 non-null    float64\n",
      " 10  Cabin        204 non-null    object \n",
      " 11  Embarked     889 non-null    object \n",
      "dtypes: float64(2), int64(5), object(5)\n",
      "memory usage: 83.7+ KB\n"
     ]
    }
   ],
   "source": [
    "df.info()"
   ]
  },
  {
   "cell_type": "code",
   "execution_count": 3,
   "metadata": {},
   "outputs": [
    {
     "data": {
      "text/plain": [
       "count    891.000000\n",
       "mean      29.361582\n",
       "std       13.019697\n",
       "min        0.420000\n",
       "25%       22.000000\n",
       "50%       28.000000\n",
       "75%       35.000000\n",
       "max       80.000000\n",
       "Name: Age, dtype: float64"
      ]
     },
     "execution_count": 3,
     "metadata": {},
     "output_type": "execute_result"
    }
   ],
   "source": [
    "df.Age.fillna(df.Age.median(),inplace=True) # inplace=True 直接在原数据上删改\n",
    "df.Age.describe()"
   ]
  },
  {
   "cell_type": "code",
   "execution_count": 4,
   "metadata": {},
   "outputs": [],
   "source": [
    "df[\"Sex\"]=df[\"Sex\"].replace({\"male\":str(1),\"female\":str(0)}).astype(int)\n",
    "df[\"Embarked\"].fillna(\"S\",inplace=True)\n",
    "df[\"Embarked\"]=df[\"Embarked\"].replace({\"S\":str(0),\"Q\":str(1),\"C\":str(2)}).astype(int)"
   ]
  },
  {
   "cell_type": "code",
   "execution_count": 5,
   "metadata": {},
   "outputs": [
    {
     "data": {
      "text/plain": [
       "(891, 7)"
      ]
     },
     "execution_count": 5,
     "metadata": {},
     "output_type": "execute_result"
    }
   ],
   "source": [
    "y_label=np.array(df[\"Survived\"].values)\n",
    "Pclass=np.array(df[\"Pclass\"].values)\n",
    "gender = np.array(df[\"Sex\"].values)\n",
    "age = np.array(df[\"Age\"].values) \n",
    "SibSp=np.array(df[\"SibSp\"].values)\n",
    "Parch=np.array(df[\"Parch\"].values)\n",
    "Fare =np.array(df[\"Fare\"].values)\n",
    "Fare = list(map(int,Fare))\n",
    "embarked = np.array(df[\"Embarked\"].values)\n",
    "X_train=np.vstack((Pclass,gender,age,SibSp,Parch,Fare,embarked)).T\n",
    "X_train.shape"
   ]
  },
  {
   "cell_type": "code",
   "execution_count": 6,
   "metadata": {
    "scrolled": true
   },
   "outputs": [
    {
     "data": {
      "text/plain": [
       "[<matplotlib.lines.Line2D at 0x2b289c122b0>]"
      ]
     },
     "execution_count": 6,
     "metadata": {},
     "output_type": "execute_result"
    },
    {
     "data": {
      "image/png": "[encoded data removed]",
      "text/plain": [
       "<Figure size 432x216 with 1 Axes>"
      ]
     },
     "metadata": {
      "needs_background": "light"
     },
     "output_type": "display_data"
    }
   ],
   "source": [
    "from classifiers import KNN\n",
    "from sklearn.model_selection import train_test_split\n",
    "fig, ax = plt.subplots(1, 1, figsize=(6, 3))\n",
    "accurancy_mean=[]\n",
    "k_zip= [1,7,15,17,18,19,20,21,22,23,24,25,26]\n",
    "Xtrain,Xtest,ytrain,ytest=train_test_split(X_train,y_label,test_size=0.3,shuffle=True)\n",
    "for k in k_zip:\n",
    "    for i in range(100):\n",
    "        accurancy_list=[]\n",
    "        classifier_L2 = KNN()\n",
    "        classifier_L2.train(Xtrain,ytrain)\n",
    "        y_pred=classifier_L2.predict(Xtest,k=k,L=2)\n",
    "        num_test=Xtest.shape[0]\n",
    "        accurancy=np.sum(ytest==y_pred)/num_test\n",
    "        accurancy_list.append(accurancy)\n",
    "    accurancy_mean.append(accurancy_list)\n",
    "ax.plot(k_zip,accurancy_mean,'-o')\n"
   ]
  },
  {
   "cell_type": "code",
   "execution_count": 7,
   "metadata": {},
   "outputs": [
    {
     "data": {
      "text/plain": [
       "(418, 7)"
      ]
     },
     "execution_count": 7,
     "metadata": {},
     "output_type": "execute_result"
    }
   ],
   "source": [
    "df = pd.read_csv(\"test.csv\")\n",
    "df.Age.fillna(df.Age.mean(),inplace=True)\n",
    "Pclass=np.array(df[\"Pclass\"].values)\n",
    "gender = np.array(df[\"Sex\"].values)\n",
    "age = np.array(df[\"Age\"].values) \n",
    "SibSp=np.array(df[\"SibSp\"].values)\n",
    "Parch=np.array(df[\"Parch\"].values)\n",
    "Fare =np.array(df[\"Fare\"].values)\n",
    "Fare = list(map(int,Fare))\n",
    "embarked = np.array(df[\"Embarked\"].values)\n",
    "X_train=np.vstack((Pclass,gender,age,SibSp,Parch,Fare,embarked)).T\n",
    "X_train.shape"
   ]
  }
 ],
 "metadata": {
  "kernelspec": {
   "display_name": "Python 3",
   "language": "python",
   "name": "python3"
  },
  "language_info": {
   "codemirror_mode": {
    "name": "ipython",
    "version": 3
   },
   "file_extension": ".py",
   "mimetype": "text/x-python",
   "name": "python",
   "nbconvert_exporter": "python",
   "pygments_lexer": "ipython3",
   "version": "3.8.3"
  }
 },
 "nbformat": 4,
 "nbformat_minor": 4
}
