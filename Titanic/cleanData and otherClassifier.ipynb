{
 "cells": [
  {
   "cell_type": "code",
   "execution_count": 1,
   "metadata": {},
   "outputs": [],
   "source": [
    "import pandas as pd\n",
    "import numpy as np\n",
    "import matplotlib.pyplot as plt"
   ]
  },
  {
   "cell_type": "code",
   "execution_count": 2,
   "metadata": {},
   "outputs": [
    {
     "data": {
      "text/plain": [
       "(891, 7)"
      ]
     },
     "execution_count": 2,
     "metadata": {},
     "output_type": "execute_result"
    }
   ],
   "source": [
    "df = pd.read_csv(\"train.csv\")\n",
    "df.Age.fillna(df.Age.median(),inplace=True)\n",
    "df[\"Sex\"]=df[\"Sex\"].replace({\"male\":str(1),\"female\":str(0)}).astype(int)\n",
    "df[\"Embarked\"].fillna(\"S\",inplace=True)\n",
    "df[\"Embarked\"]=df[\"Embarked\"].replace({\"S\":str(0),\"Q\":str(1),\"C\":str(2)}).astype(int)\n",
    "y_label=np.array(df[\"Survived\"].values)\n",
    "Pclass=np.array(df[\"Pclass\"].values)\n",
    "gender = np.array(df[\"Sex\"].values)\n",
    "age = np.array(df[\"Age\"].values) \n",
    "SibSp=np.array(df[\"SibSp\"].values)\n",
    "Parch=np.array(df[\"Parch\"].values)\n",
    "Fare =np.array(df[\"Fare\"].values)\n",
    "Fare = list(map(int,Fare))\n",
    "embarked = np.array(df[\"Embarked\"].values)\n",
    "X_train=np.vstack((Pclass,gender,age,SibSp,Parch,Fare,embarked)).T\n",
    "X_train.shape"
   ]
  },
  {
   "cell_type": "code",
   "execution_count": 3,
   "metadata": {},
   "outputs": [
    {
     "name": "stderr",
     "output_type": "stream",
     "text": [
      "C:\\Users\\1\\anaconda3\\lib\\site-packages\\sklearn\\linear_model\\_logistic.py:762: ConvergenceWarning: lbfgs failed to converge (status=1):\n",
      "STOP: TOTAL NO. of ITERATIONS REACHED LIMIT.\n",
      "\n",
      "Increase the number of iterations (max_iter) or scale the data as shown in:\n",
      "    https://scikit-learn.org/stable/modules/preprocessing.html\n",
      "Please also refer to the documentation for alternative solver options:\n",
      "    https://scikit-learn.org/stable/modules/linear_model.html#logistic-regression\n",
      "  n_iter_i = _check_optimize_result(\n"
     ]
    }
   ],
   "source": [
    "from sklearn.model_selection import GridSearchCV\n",
    "from sklearn.linear_model import LogisticRegression\n",
    "from sklearn.model_selection import train_test_split\n",
    "Xtrain,Xtest,ytrain,ytest=train_test_split(X_train,y_label,test_size=0.3,shuffle=True)\n",
    "clf = LogisticRegression(random_state=0).fit(Xtrain, ytrain)\n",
    "\n"
   ]
  },
  {
   "cell_type": "code",
   "execution_count": null,
   "metadata": {},
   "outputs": [],
   "source": []
  }
 ],
 "metadata": {
  "kernelspec": {
   "display_name": "Python 3",
   "language": "python",
   "name": "python3"
  },
  "language_info": {
   "codemirror_mode": {
    "name": "ipython",
    "version": 3
   },
   "file_extension": ".py",
   "mimetype": "text/x-python",
   "name": "python",
   "nbconvert_exporter": "python",
   "pygments_lexer": "ipython3",
   "version": "3.8.3"
  }
 },
 "nbformat": 4,
 "nbformat_minor": 4
}
