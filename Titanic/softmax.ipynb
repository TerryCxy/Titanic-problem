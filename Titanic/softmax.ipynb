{
 "cells": [
  {
   "cell_type": "code",
   "execution_count": 1,
   "metadata": {},
   "outputs": [],
   "source": [
    "import pandas as pd\n",
    "import numpy as np\n",
    "import matplotlib.pyplot as plt"
   ]
  },
  {
   "cell_type": "code",
   "execution_count": 2,
   "metadata": {},
   "outputs": [
    {
     "name": "stdout",
     "output_type": "stream",
     "text": [
      "X_train shanpe =  (891, 6)\n",
      "y_label shanpe =  (891,)\n"
     ]
    },
    {
     "data": {
      "text/plain": [
       "array([[3, 1, 2, 1, 0, 0],\n",
       "       [1, 0, 4, 1, 0, 1],\n",
       "       [3, 0, 3, 0, 0, 0],\n",
       "       ...,\n",
       "       [3, 0, 2, 1, 2, 0],\n",
       "       [1, 1, 3, 0, 0, 1],\n",
       "       [3, 1, 4, 0, 0, 2]], dtype=object)"
      ]
     },
     "execution_count": 2,
     "metadata": {},
     "output_type": "execute_result"
    }
   ],
   "source": [
    "df = pd.read_csv(\"train.csv\")\n",
    "Pclass=np.array(df[\"Pclass\"].values)\n",
    "gender=np.array(df[\"Sex\"].values)\n",
    "gender[gender==\"male\"]=1\n",
    "gender[gender==\"female\"]=0\n",
    "\n",
    "ages=df[\"Age\"].values\n",
    "ages[np.isnan(ages)]=0\n",
    "ages=np.nan_to_num(ages)\n",
    "mean_age=np.mean(ages)\n",
    "ages[ages==0] = int(mean_age)\n",
    "ages=np.array(list(map(int,ages)))\n",
    "num = max(ages)-min(ages)\n",
    "minNum=min(ages)\n",
    "ages=(ages-minNum)/num*10\n",
    "ages=list(map(int,ages))\n",
    "\n",
    "SibSp=np.array(df[\"SibSp\"].values)\n",
    "Parch=np.array(df[\"Parch\"].values)\n",
    "embarked=np.array(df[\"Embarked\"].values)\n",
    "embarked[embarked==\"S\"]=0\n",
    "embarked[embarked==\"C\"]=1\n",
    "embarked[embarked==\"Q\"]=2\n",
    "X_train=np.vstack((Pclass,gender,ages,SibSp,Parch,embarked)).T\n",
    "y_label=np.array(df[\"Survived\"].values)\n",
    "print (\"X_train shanpe = \",X_train.shape)\n",
    "print (\"y_label shanpe = \",y_label.shape)\n",
    "X_train"
   ]
  },
  {
   "cell_type": "code",
   "execution_count": 3,
   "metadata": {},
   "outputs": [
    {
     "data": {
      "text/plain": [
       "(418, 6)"
      ]
     },
     "execution_count": 3,
     "metadata": {},
     "output_type": "execute_result"
    }
   ],
   "source": [
    "df = pd.read_csv(\"test.csv\")\n",
    "Pclass=np.array(df[\"Pclass\"].values)\n",
    "gender=np.array(df[\"Sex\"].values)\n",
    "gender[gender==\"male\"]=1\n",
    "gender[gender==\"female\"]=0\n",
    "\n",
    "ages=df[\"Age\"].values\n",
    "ages[np.isnan(ages)]=0\n",
    "ages=np.nan_to_num(ages)\n",
    "mean_age=np.mean(ages)\n",
    "ages[ages==0] = int(mean_age)\n",
    "ages=np.array(list(map(int,ages)))\n",
    "num = max(ages)-min(ages)\n",
    "minNum=min(ages)\n",
    "ages=(ages-minNum)/num*10\n",
    "ages=list(map(int,ages))\n",
    "\n",
    "SibSp=np.array(df[\"SibSp\"].values)\n",
    "Parch=np.array(df[\"Parch\"].values)\n",
    "embarked=np.array(df[\"Embarked\"].values)\n",
    "embarked[embarked==\"S\"]=0\n",
    "embarked[embarked==\"C\"]=1\n",
    "embarked[embarked==\"Q\"]=2\n",
    "X_test=np.vstack((Pclass,gender,ages,SibSp,Parch,embarked)).T\n",
    "X_test.shape"
   ]
  },
  {
   "cell_type": "code",
   "execution_count": 4,
   "metadata": {},
   "outputs": [
    {
     "name": "stdout",
     "output_type": "stream",
     "text": [
      "0.0\n"
     ]
    }
   ],
   "source": [
    "from classifiers import softmax_loss_naive\n",
    "W = np.random.randn(X_train.shape[1], 2)\n",
    "loss=softmax_loss_naive(W, X_train,y_label,0.1)\n",
    "print(loss)"
   ]
  },
  {
   "cell_type": "code",
   "execution_count": 5,
   "metadata": {},
   "outputs": [
    {
     "data": {
      "text/plain": [
       "array([[ 0.51142653,  0.10558919],\n",
       "       [-0.16988457, -0.03614014],\n",
       "       [-1.90200188, -2.10268701],\n",
       "       [-2.14715542, -1.64761701],\n",
       "       [ 0.51607723,  0.64268506],\n",
       "       [ 1.11003743,  0.16781869]])"
      ]
     },
     "execution_count": 5,
     "metadata": {},
     "output_type": "execute_result"
    }
   ],
   "source": [
    "W"
   ]
  }
 ],
 "metadata": {
  "kernelspec": {
   "display_name": "Python 3",
   "language": "python",
   "name": "python3"
  },
  "language_info": {
   "codemirror_mode": {
    "name": "ipython",
    "version": 3
   },
   "file_extension": ".py",
   "mimetype": "text/x-python",
   "name": "python",
   "nbconvert_exporter": "python",
   "pygments_lexer": "ipython3",
   "version": "3.8.3"
  }
 },
 "nbformat": 4,
 "nbformat_minor": 4
}
